{
  "nbformat": 4,
  "nbformat_minor": 0,
  "metadata": {
    "colab": {
      "name": "day3_homework.ipynb",
      "provenance": []
    },
    "kernelspec": {
      "name": "python3",
      "display_name": "Python 3"
    },
    "language_info": {
      "name": "python"
    }
  },
  "cells": [
    {
      "cell_type": "code",
      "metadata": {
        "id": "ntOCN_6mzfVE"
      },
      "source": [
        "#Default values for a quick run\n",
        "#uname = \"admin\"\n",
        "#pword = \"aPass\"\n",
        "#d = {uname:pword}\n",
        "\n",
        "signupU = \"Enter username for new user: \"\n",
        "signupP = \"Enter password for new user: \"\n",
        "inputU = \"Enter your Username to login: \"\n",
        "inputP = \"Enter your Password to login: \"\n",
        "\n",
        "def createUser():\n",
        "  global d\n",
        "  while True:\n",
        "    try:\n",
        "      uname = input(signupU)\n",
        "      pword = input(signupP)\n",
        "      d = {uname:pword}\n",
        "      break\n",
        "    except KeyboardInterrupt:\n",
        "      continue\n",
        "  return d\n",
        "\n",
        "def userCheck():\n",
        "  i=0\n",
        "  while True:\n",
        "    try:\n",
        "      unameC = input(inputU)\n",
        "      pwordC = input(inputP)\n",
        "      if unameC in d.keys():\n",
        "        if pwordC == d.get(unameC):\n",
        "          print(\"Successful. You entered your login information correctly.\")\n",
        "          break\n",
        "        else:\n",
        "          if i >= 2:\n",
        "            print(\"Your login attempts has been terminated.\")\n",
        "            break\n",
        "          else:\n",
        "            i += 1\n",
        "            print(\"Attempts left: {}\".format(3-i))\n",
        "        print(\"Your Password is incorrect.\")\n",
        "        continue\n",
        "      else:\n",
        "        print('Your Username is incorrect.')\n",
        "        continue\n",
        "    except KeyboardInterrupt:\n",
        "      break\n",
        "\n",
        "#To create user infermation from input\n",
        "#Comment out to run default values\n",
        "createUser()\n",
        "userCheck()"
      ],
      "execution_count": null,
      "outputs": []
    }
  ]
}