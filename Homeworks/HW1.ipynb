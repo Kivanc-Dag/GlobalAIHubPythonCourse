{
  "nbformat": 4,
  "nbformat_minor": 0,
  "metadata": {
    "colab": {
      "name": "day2_homework.ipynb",
      "provenance": []
    },
    "kernelspec": {
      "name": "python3",
      "display_name": "Python 3"
    },
    "language_info": {
      "name": "python"
    }
  },
  "cells": [
    {
      "cell_type": "code",
      "metadata": {
        "id": "omTfLseIJU8a"
      },
      "source": [
        "#Create a list of numbers; from 0 to 9\n",
        "list1=list(range(10))\n",
        "print(\"Original list:\", list1)\n",
        "\n",
        "#Function to swap n'th element of the list\n",
        "#with n+(half of the length of list)'th element\n",
        "def ListSwapAtHalf(array):\n",
        "  l=len(array)\n",
        "  for i in range(l//2):\n",
        "    array[i],array[i+l//2]=array[i+l//2],array[i]\n",
        "\n",
        "ListSwapAtHalf(list1)\n",
        "print(\"Swapped list:\", list1)"
      ],
      "execution_count": null,
      "outputs": []
    },
    {
      "cell_type": "code",
      "metadata": {
        "id": "VemUXHdiWrip"
      },
      "source": [
        "inputMsg = \"Please enter a single digit integer: \"\n",
        "outputMsg = \"Even numbers from 0 to {}:\"\n",
        "\n",
        "#Function to ensure input is a single digit integer\n",
        "def getSingleDigitInt(msg): \n",
        "  while True:\n",
        "    try:\n",
        "      intValue = int(input(msg))\n",
        "    except ValueError:\n",
        "      print(\"You didn't enter a single digit integer value!\")\n",
        "      continue\n",
        "\n",
        "    if abs(intValue) >= 10:\n",
        "      print(\"You entered a non-single digit integer!\")\n",
        "      continue\n",
        "    else:\n",
        "      break\n",
        "  return intValue\n",
        "\n",
        "#Function to list even number in given range\n",
        "def evenNumbers(nmbr):  \n",
        "  if nmbr < 0: #If input is negative\n",
        "    listedNumbers = range(0, nmbr-1, -1)\n",
        "  else:\n",
        "    listedNumbers = range(0, nmbr+1)\n",
        "\n",
        "  evens = [i for i in listedNumbers if i % 2 == 0]\n",
        "  return evens\n",
        "\n",
        "#Commands to use functions in succession\n",
        "n = getSingleDigitInt(inputMsg)\n",
        "p = evenNumbers(n)\n",
        "\n",
        "print(outputMsg. format(n), p)\n"
      ],
      "execution_count": null,
      "outputs": []
    }
  ]
}