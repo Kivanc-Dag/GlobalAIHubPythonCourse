{
  "nbformat": 4,
  "nbformat_minor": 0,
  "metadata": {
    "colab": {
      "name": "Final Project.ipynb",
      "provenance": []
    },
    "kernelspec": {
      "name": "python3",
      "display_name": "Python 3"
    },
    "language_info": {
      "name": "python"
    }
  },
  "cells": [
    {
      "cell_type": "code",
      "metadata": {
        "id": "waUIJBCCjE18"
      },
      "source": [
        "questionDictionary ={\"Who discovered penicillin?\":\"Alexander Fleming\",\n",
        "                     \"Who was the first woman to win a Nobel Prize (in 1903)?\":\"Marie Curie\",\n",
        "                     \"Electromagnetic Field concept was observed and discovered by whom?\":\"James Hargreaves\",\n",
        "                     \"Who developed the 'Concept of Inertia'?\":\"Galileo\",\n",
        "                     \"Who achieved the discovery of 'Vitamin C'?\":\"Albert Szent\",\n",
        "                     \"'Mechanical Clock' made by whom?\":\"Isaac Newton\",\n",
        "                     \"'Energy of the Sun' concept discovered by which scientist?\":\"Hans Selye\",\n",
        "                     \"Who discovered the 'Modern Anthropology'?\":\"Frederick Sanger\",\n",
        "                     \"Who invented the telescope?\":\"Hans Lippershey\",\n",
        "                     \"For whom is the centigrade system of temperature measurement named after?\":\"Anders Celsius\"}\n",
        "\n",
        "\n",
        "#Test questions\n",
        "#questionDictionary = {\"Ali?\":\"Ali\", \"ahmet?\":\"ahmet\", \"a?\":\"a\", \"B?\":\"B\",\"Cc?\":\"Cc\", \"DDD?\":\"DDD\"}\n",
        "\n",
        "\n",
        "questions = list(questionDictionary.keys())\n",
        "answers = list(questionDictionary.values())\n",
        "\n",
        "msgInput = \"Remember, your answer should be case sensitive. Answer: \"\n",
        "\n",
        "def quiz():\n",
        "  global qNmbr\n",
        "  global correct\n",
        "  qNmbr = 0\n",
        "  correct = 0\n",
        "  while True:\n",
        "    if qNmbr < len(questions):\n",
        "      print(questions[qNmbr])\n",
        "      aNmbr = input(msgInput)\n",
        "      if aNmbr == answers[qNmbr]:\n",
        "        correct += 1\n",
        "        qNmbr +=1\n",
        "      else:\n",
        "        qNmbr +=1\n",
        "        continue\n",
        "    else:\n",
        "      break\n",
        "\n",
        "def score():\n",
        "  scr = correct*10\n",
        "  scrMsg = \"Your final score is: {}\".format(scr)\n",
        "  if correct > 5:\n",
        "    print(\"You have successfully passed the test. Congratulations!\")\n",
        "    print(scrMsg)\n",
        "  else:\n",
        "    print(\"Sorry, you didn't give enough correct answers to pass. Better luck next time.\")\n",
        "    print(scrMsg)\n",
        "\n",
        "quiz()\n",
        "score()"
      ],
      "execution_count": null,
      "outputs": []
    }
  ]
}